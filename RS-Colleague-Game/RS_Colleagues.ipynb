{
 "cells": [
  {
   "cell_type": "code",
   "execution_count": 1,
   "id": "2e2013b1",
   "metadata": {},
   "outputs": [],
   "source": []
  },
  {
   "cell_type": "code",
   "execution_count": 2,
   "id": "b5433553-e1af-43e4-b75f-7499d7a3c92a",
   "metadata": {},
   "outputs": [
    {
     "data": {
      "text/plain": [
       "'\\nMeet your colleagues powerpoint builder\\n'"
      ]
     },
     "execution_count": 2,
     "metadata": {},
     "output_type": "execute_result"
    }
   ],
   "source": [
    "'''\n",
    "Meet your colleagues powerpoint builder\n",
    "'''"
   ]
  },
  {
   "cell_type": "code",
   "execution_count": 3,
   "id": "9f31b989",
   "metadata": {},
   "outputs": [],
   "source": [
    "import pdb\n",
    "import re"
   ]
  },
  {
   "cell_type": "code",
   "execution_count": 4,
   "id": "978e84b4-59b5-4db0-b76d-b518ea08f2db",
   "metadata": {},
   "outputs": [
    {
     "ename": "ModuleNotFoundError",
     "evalue": "No module named 'pptx'",
     "output_type": "error",
     "traceback": [
      "\u001B[0;31m---------------------------------------------------------------------------\u001B[0m",
      "\u001B[0;31mModuleNotFoundError\u001B[0m                       Traceback (most recent call last)",
      "\u001B[0;32m/var/folders/zs/zs9g4ng13bbgqj_q7wcljf4m0000gn/T/ipykernel_99679/1873983080.py\u001B[0m in \u001B[0;36m<module>\u001B[0;34m\u001B[0m\n\u001B[0;32m----> 1\u001B[0;31m \u001B[0;32mfrom\u001B[0m \u001B[0mpptx\u001B[0m \u001B[0;32mimport\u001B[0m \u001B[0mPresentation\u001B[0m\u001B[0;34m\u001B[0m\u001B[0;34m\u001B[0m\u001B[0m\n\u001B[0m\u001B[1;32m      2\u001B[0m \u001B[0;32mfrom\u001B[0m \u001B[0mpptx\u001B[0m\u001B[0;34m.\u001B[0m\u001B[0mutil\u001B[0m \u001B[0;32mimport\u001B[0m \u001B[0mInches\u001B[0m\u001B[0;34m,\u001B[0m \u001B[0mPt\u001B[0m\u001B[0;34m\u001B[0m\u001B[0;34m\u001B[0m\u001B[0m\n\u001B[1;32m      3\u001B[0m \u001B[0;32mfrom\u001B[0m \u001B[0mpptx\u001B[0m\u001B[0;34m.\u001B[0m\u001B[0mdml\u001B[0m\u001B[0;34m.\u001B[0m\u001B[0mcolor\u001B[0m \u001B[0;32mimport\u001B[0m \u001B[0mRGBColor\u001B[0m \u001B[0;31m#, ColorFormat\u001B[0m\u001B[0;34m\u001B[0m\u001B[0;34m\u001B[0m\u001B[0m\n\u001B[1;32m      4\u001B[0m \u001B[0;32mfrom\u001B[0m \u001B[0mpptx\u001B[0m\u001B[0;34m.\u001B[0m\u001B[0menum\u001B[0m\u001B[0;34m.\u001B[0m\u001B[0mtext\u001B[0m \u001B[0;32mimport\u001B[0m \u001B[0mPP_ALIGN\u001B[0m\u001B[0;34m,\u001B[0m \u001B[0mMSO_AUTO_SIZE\u001B[0m\u001B[0;34m\u001B[0m\u001B[0;34m\u001B[0m\u001B[0m\n",
      "\u001B[0;31mModuleNotFoundError\u001B[0m: No module named 'pptx'"
     ]
    }
   ],
   "source": []
  },
  {
   "cell_type": "code",
   "execution_count": 88,
   "id": "907c4d67",
   "metadata": {},
   "outputs": [],
   "source": [
    "from bs4 import BeautifulSoup\n",
    "from urllib.request import urlopen"
   ]
  },
  {
   "cell_type": "code",
   "execution_count": 89,
   "id": "f8d85e9c-55e1-4250-8ad8-aeb2556853d2",
   "metadata": {},
   "outputs": [],
   "source": [
    "prs = Presentation()\n",
    "BLANK_LAYOUT = prs.slide_layouts[6]"
   ]
  },
  {
   "cell_type": "code",
   "execution_count": 110,
   "id": "d3bad83e",
   "metadata": {},
   "outputs": [],
   "source": [
    "def print_bad_formatted_rooms():\n",
    "    update_professor_file()\n",
    "    old_p = pull_professor_data_old()\n",
    "    professors = parse_professor_data()\n",
    "    for old, new in zip(old_p, professors):\n",
    "        if old.room != (str(new.room)[3:]):\n",
    "            print(old)\n",
    "    print(\"Done!\")\n",
    "    #print(*(f'{n.room}, {o.room}' for o, n in zip(old, professors)), sep='\\n')"
   ]
  },
  {
   "cell_type": "code",
   "execution_count": 90,
   "id": "0a9d3730",
   "metadata": {},
   "outputs": [],
   "source": [
    "def add_slide(prof_name):\n",
    "    slide = prs.slides.add_slide(BLANK_LAYOUT)\n",
    "    textbox_height = Inches(1.58)\n",
    "    name_textbox = slide.shapes.add_textbox(left=0, top=prs.slide_height-textbox_height,\n",
    "                                            width=prs.slide_width, height=textbox_height)\n",
    "    frame = name_textbox.text_frame\n",
    "    frame.text = prof_name\n",
    "    frame.auto_size = MSO_AUTO_SIZE.NONE\n",
    "    frame.paragraphs[0].alignment = PP_ALIGN.CENTER\n",
    "    font = frame.paragraphs[0].font\n",
    "    font.size = Pt(88)\n",
    "    font.color.rgb = RGBColor(255,0,0)"
   ]
  },
  {
   "cell_type": "code",
   "execution_count": 91,
   "id": "82baf072",
   "metadata": {},
   "outputs": [],
   "source": [
    "def pull_professor_data(url=\"https://religion.byu.edu/directory\"):\n",
    "    html_data = \"\"\n",
    "    with urlopen(url) as request:\n",
    "        html_data = request.read().decode(\"utf-8\")\n",
    "    bs = BeautifulSoup(html_data, 'html.parser')\n",
    "    \n",
    "    professors = []\n",
    "    for tag in bs.find_all('div', class_='PromoVerticalImage-content'):\n",
    "        room = ''\n",
    "        try:\n",
    "            room = tag.find_all('p')[0].contents[0].string.strip()\n",
    "            room = RoomAddress.from_string(room)\n",
    "        except IndexError:\n",
    "            pass\n",
    "        name = tag.find_all(class_='PromoVerticalImage-title promo-title')[0].find('a').string\n",
    "        professors.append(Professor(str(name), room))\n",
    "    \n",
    "    return professors"
   ]
  },
  {
   "cell_type": "code",
   "execution_count": 92,
   "id": "2a1aa8c5",
   "metadata": {},
   "outputs": [],
   "source": [
    "def pull_professor_data_old(url=\"https://religion.byu.edu/directory\"):\n",
    "    html_data = \"\"\n",
    "    with urlopen(url) as request:\n",
    "        html_data = request.read().decode(\"utf-8\")\n",
    "    bs = BeautifulSoup(html_data, 'html.parser')\n",
    "    \n",
    "    professors = []\n",
    "    for tag in bs.find_all('div', class_='PromoVerticalImage-content'):\n",
    "        room = ''\n",
    "        try:\n",
    "            room = tag.find_all('p')[0].contents[0].string.strip()\n",
    "            #room = RoomAddress.from_string(room)\n",
    "        except IndexError:\n",
    "            pass\n",
    "        name = tag.find_all(class_='PromoVerticalImage-title promo-title')[0].find('a').string\n",
    "        professors.append(Professor(name, room))\n",
    "    \n",
    "    return professors"
   ]
  },
  {
   "cell_type": "code",
   "execution_count": 93,
   "id": "0973b84e",
   "metadata": {},
   "outputs": [],
   "source": [
    "class RoomAddress:\n",
    "    def __init__(self, building, floor, rm_num, rm_letter=''):\n",
    "        self.floor = floor\n",
    "        self.rm_num = rm_num\n",
    "        self.rm_letter = rm_letter\n",
    "        self.building = building\n",
    "    \n",
    "    def __str__(self):\n",
    "        output = ''\n",
    "        if self.floor:\n",
    "            output += f'{self.floor}f'\n",
    "        if self.rm_num:\n",
    "            output += f' {self.rm_num}{self.rm_letter}'\n",
    "        if self.building:\n",
    "            output += f' {self.building}'\n",
    "        return output.strip()\n",
    "    \n",
    "    def __repr__(self):\n",
    "        return self.building, self.floor, self.rm_num, self.rm_letter\n",
    "    \n",
    "    def __bool__(self):\n",
    "        return any(self.building, self.floor, self.rm_num)\n",
    "    \n",
    "    @staticmethod\n",
    "    def _clean_string(string):\n",
    "        clean_string = string.strip()\n",
    "        clean_string = re.sub(r'-', ' ', clean_string)\n",
    "        clean_string = re.sub(r'Office(:\\s)*', '', clean_string)\n",
    "        clean_string = re.sub(r'Joseph.*', 'JSB', clean_string)\n",
    "        clean_string = re.sub(r'Heber.*', 'HGB', clean_string)\n",
    "        clean_string = re.sub(r'(?<=\\d)\\s*([^\\d\\s])(?!\\w)', r'\\g<1>', clean_string)\n",
    "        #clean_string = re.sub('(?!\\d+ +)([^\\d\\s]){1} ', ' \\g<1>', clean_string)\n",
    "        #clean_string = re.sub(' +', ' ', clean_string)\n",
    "        return clean_string\n",
    "    \n",
    "    @staticmethod\n",
    "    def _split_string(string):\n",
    "        \n",
    "        building = re.search(r'[^\\d\\s]{2,}', string)\n",
    "        building = \"\" if not building else building.group(0)\n",
    "        rm_num = re.search(r'\\d{2,}', string)\n",
    "        rm_num = \"\" if not rm_num else rm_num.group(0)\n",
    "        rm_letter = re.search(r'(?<=\\d{2})([^\\d\\s])(?!\\w)', string)\n",
    "        rm_letter = \"\" if not rm_letter else rm_letter.group(0)\n",
    "        floor = rm_num[0] if rm_num else \"\"\n",
    "        \n",
    "        return building, floor, rm_num, rm_letter\n",
    "    \n",
    "    @classmethod\n",
    "    def from_string(cls, string):\n",
    "        #building, floor, rm_num, rm_letter = RoomAddress._split_string(room_string)\n",
    "        #floor = rm_num[0]\n",
    "        #cls = RoomAddress(building, floor, rm_num, rm_letter)\n",
    "        string = RoomAddress._clean_string(string)\n",
    "        cls = RoomAddress(*RoomAddress._split_string(string))\n",
    "        return cls\n",
    "    \n",
    "    @staticmethod\n",
    "    def from_string_iter(string_iter):\n",
    "        clean_string = '\\n'.join(string_iter)\n",
    "        #scrub data\n",
    "        clean_string = RoomAddress._clean_string(clean_string)\n",
    "        new_string_iter = clean_string.split('\\n')\n",
    "        #print(new_string_iter)\n",
    "        \n",
    "        return [RoomAddress(*RoomAddress._split_string(room_string))\n",
    "                for room_string in new_string_iter]\n",
    "        '''\n",
    "        output = []\n",
    "        for room_string in new_string_iter:\n",
    "            #building, floor, rm_num, rm_letter = RoomAddress._split_string(room_string)\n",
    "            #floor = rm_num[0]\n",
    "            #output.append(RoomAddress(building, floor, rm_num, rm_letter))\n",
    "            output.append(RoomAddress(*RoomAddress._split_string(room_string)))\n",
    "        \n",
    "        return output\n",
    "        #'''"
   ]
  },
  {
   "cell_type": "code",
   "execution_count": 94,
   "id": "4f6219d1",
   "metadata": {},
   "outputs": [],
   "source": [
    "class Professor:\n",
    "    def __init__(self, name, room):#, pic_file=\"\"):\n",
    "        self.name = name\n",
    "        self.room = room\n",
    "        #self.picture = pic_file\n",
    "        \n",
    "    def __str__(self):\n",
    "        return f'{self.name}, {self.room}'\n",
    "        #return f'{self.name}, {self.room}, {self.picture}'\n",
    "    \n",
    "    def __repr__(self):\n",
    "        return str(self)\n",
    "    \n",
    "    @classmethod\n",
    "    def from_string(cls, string):\n",
    "        *name, room = string.split(', ')\n",
    "        cls = Professor(', '.join(name), RoomAddress.from_string(room))\n",
    "        return cls"
   ]
  },
  {
   "cell_type": "code",
   "execution_count": 105,
   "id": "008e387d",
   "metadata": {},
   "outputs": [],
   "source": [
    "def update_professor_file(file_name='professors.txt', professors=None):\n",
    "    if not professors:\n",
    "        professors = pull_professor_data(url=\"https://religion.byu.edu/directory\")\n",
    "    new_prof_dict = dict(zip((x.name for x in professors),professors))\n",
    "    old_professors = parse_professor_data(file_name)\n",
    "    old_prof_dict = dict(zip((x.name for x in old_professors),old_professors))\n",
    "    old_prof_dict.update(new_prof_dict)\n",
    "    for name, prof in old_prof_dict.items():\n",
    "        prof.name = name\n",
    "    \n",
    "    with open(file_name, 'w') as file:\n",
    "        file.write(('\\n'.join((str(p) for p in old_prof_dict.values()))))\n",
    "        \n",
    "    return old_prof_dict.values()"
   ]
  },
  {
   "cell_type": "code",
   "execution_count": 108,
   "id": "eeb2fe22",
   "metadata": {},
   "outputs": [],
   "source": [
    "def parse_professor_data(file_name='professors.txt'):\n",
    "    with open(file_name, 'r') as file:\n",
    "        return [Professor.from_string(line) for line in file]"
   ]
  },
  {
   "cell_type": "code",
   "execution_count": 109,
   "id": "52a44ab8",
   "metadata": {},
   "outputs": [],
   "source": [
    "#professors = update_professor_file()"
   ]
  },
  {
   "cell_type": "code",
   "execution_count": null,
   "id": "a5d21111",
   "metadata": {},
   "outputs": [],
   "source": [
    "os.listdir()"
   ]
  },
  {
   "cell_type": "code",
   "execution_count": 111,
   "id": "12d2a3c5",
   "metadata": {},
   "outputs": [
    {
     "name": "stdout",
     "output_type": "stream",
     "text": [
      "Done!\n"
     ]
    }
   ],
   "source": [
    "print_bad_formatted_rooms()"
   ]
  },
  {
   "cell_type": "code",
   "execution_count": null,
   "id": "a56446d0",
   "metadata": {},
   "outputs": [],
   "source": []
  },
  {
   "cell_type": "code",
   "execution_count": null,
   "id": "159d6720",
   "metadata": {},
   "outputs": [],
   "source": []
  },
  {
   "cell_type": "code",
   "execution_count": 12,
   "id": "623d0bff",
   "metadata": {},
   "outputs": [],
   "source": [
    "for n in names:\n",
    "    add_slide(n)\n",
    "prs.save(\"Testing2.pptx\")"
   ]
  },
  {
   "cell_type": "code",
   "execution_count": 26,
   "id": "2c575666",
   "metadata": {},
   "outputs": [],
   "source": [
    "#professors = pull_professor_data()\n",
    "#print(*professors, sep='\\n')\n",
    "\n",
    "#rooms = RoomAddress.from_string_iter(rooms)\n",
    "#print(len(names), len(rooms))\n",
    "#print(*(f'{name:25}={str(room)}' for name, room in zip(names, rooms)), sep='\\n')"
   ]
  },
  {
   "cell_type": "code",
   "execution_count": 72,
   "id": "481b0638",
   "metadata": {},
   "outputs": [],
   "source": [
    "#names, rooms = pull_professor_data()\n",
    "#print(*(r for r in rooms), sep='\\n')\n",
    "#print(*(r for r in RoomAddress.from_string_iter(rooms)), sep='\\n')\n",
    "#rooms = RoomAddress.from_string_iter(rooms)\n",
    "#print(len(names), len(rooms))\n",
    "#print(*(f'{name:25}={str(room)}' for name, room in zip(names, rooms)), sep='\\n')"
   ]
  },
  {
   "cell_type": "code",
   "execution_count": 11,
   "id": "3f2972fc",
   "metadata": {},
   "outputs": [],
   "source": [
    "#names, rooms = pull_professor_data()\n",
    "#print(*(f'{n:35} = {r}' for n, r in zip(names, rooms)), sep='\\n')\n",
    "#print(*(r for r in rooms), sep='\\n')"
   ]
  },
  {
   "cell_type": "code",
   "execution_count": 13,
   "id": "c719b959-462c-4ef2-83c1-70e2a9754961",
   "metadata": {},
   "outputs": [],
   "source": [
    "#add_slide(\"Richard Crookston\")\n",
    "#prs.save(\"Testing.pptx\")"
   ]
  },
  {
   "cell_type": "code",
   "execution_count": null,
   "id": "f2c0a224",
   "metadata": {},
   "outputs": [],
   "source": []
  }
 ],
 "metadata": {
  "kernelspec": {
   "display_name": "Python 3 (ipykernel)",
   "language": "python",
   "name": "python3"
  },
  "language_info": {
   "codemirror_mode": {
    "name": "ipython",
    "version": 3
   },
   "file_extension": ".py",
   "mimetype": "text/x-python",
   "name": "python",
   "nbconvert_exporter": "python",
   "pygments_lexer": "ipython3",
   "version": "3.10.0"
  }
 },
 "nbformat": 4,
 "nbformat_minor": 5
}