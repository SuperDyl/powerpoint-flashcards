{
 "cells": [
  {
   "cell_type": "code",
   "execution_count": 1,
   "id": "f388cc8f-8071-4976-b8d7-028bb865ed03",
   "metadata": {},
   "outputs": [
    {
     "data": {
      "text/plain": [
       "'\\nAdapter module for pptx to make it more pythonic\\n'"
      ]
     },
     "execution_count": 1,
     "metadata": {},
     "output_type": "execute_result"
    }
   ],
   "source": [
    "'''\n",
    "Adapter module for pptx to make it more pythonic\n",
    "'''"
   ]
  },
  {
   "cell_type": "code",
   "execution_count": 2,
   "id": "c4966ac6-8f1f-450c-bbc5-37c5541b8d38",
   "metadata": {},
   "outputs": [],
   "source": [
    "import pptx as m_pptx"
   ]
  },
  {
   "cell_type": "code",
   "execution_count": 25,
   "id": "83bed96b-ad85-4486-aee0-e4a83e6bf61e",
   "metadata": {},
   "outputs": [],
   "source": [
    "class Powerpoint(m_pptx.presentation.Presentation):\n",
    "    '''\n",
    "    Wrapper for Presentation to allow rewriting behavior to be pythonic\n",
    "    '''\n",
    "    def __init__(self, pptx=None):\n",
    "        #super().__init__()\n",
    "        self.slides = Slides2.from_Slides(cls.slides)\n",
    "        pass\n",
    "        \n",
    "    def __new__(cls, pptx=None):\n",
    "        cls = m_pptx.Presentation(pptx)\n",
    "        print(cls.__dict__)\n",
    "        #prs.slide_layouts = SlideLayout2.from_SlideLayout(prs.slide_layouts)\n",
    "        return cls"
   ]
  },
  {
   "cell_type": "code",
   "execution_count": 26,
   "id": "41d9cc74-75e5-4f6e-9d97-f645c082a0af",
   "metadata": {
    "tags": []
   },
   "outputs": [
    {
     "name": "stdout",
     "output_type": "stream",
     "text": [
      "{'_element': <Element {http://schemas.openxmlformats.org/presentationml/2006/main}presentation at 0x7ff2f96cf4f8>, '_part': <pptx.parts.presentation.PresentationPart object at 0x7ff2f96f7b70>}\n"
     ]
    }
   ],
   "source": [
    "a = Powerpoint()"
   ]
  },
  {
   "cell_type": "code",
   "execution_count": 27,
   "id": "b64b9c36-e3a8-4902-aec4-a05c1cf095a6",
   "metadata": {},
   "outputs": [
    {
     "name": "stdout",
     "output_type": "stream",
     "text": [
      "0. <pptx.slide.SlideLayout object at 0x7ff2f9b09cc0>\n",
      "1. <pptx.slide.SlideLayout object at 0x7ff2f9b09cf8>\n",
      "2. <pptx.slide.SlideLayout object at 0x7ff2f9b09d30>\n",
      "3. <pptx.slide.SlideLayout object at 0x7ff2f9b09d68>\n",
      "4. <pptx.slide.SlideLayout object at 0x7ff2f9b09da0>\n",
      "5. <pptx.slide.SlideLayout object at 0x7ff2f9b09dd8>\n",
      "6. <pptx.slide.SlideLayout object at 0x7ff2f9b09e10>\n",
      "7. <pptx.slide.SlideLayout object at 0x7ff2f9b09e48>\n",
      "8. <pptx.slide.SlideLayout object at 0x7ff2f9b09e80>\n",
      "9. <pptx.slide.SlideLayout object at 0x7ff2f9b09eb8>\n",
      "10. <pptx.slide.SlideLayout object at 0x7ff2f9b09ef0>\n"
     ]
    }
   ],
   "source": [
    "print(*(f'{i}. {str(x)}' for i,x in enumerate(a.slide_layouts)), sep='\\n')"
   ]
  },
  {
   "cell_type": "code",
   "execution_count": 65,
   "id": "99b15e4b-fb64-4dc8-a848-e65cab5b5b69",
   "metadata": {},
   "outputs": [
    {
     "name": "stdout",
     "output_type": "stream",
     "text": [
      "<pptx.slide.SlideLayout object at 0x7fe2c644c1d0>\n"
     ]
    }
   ],
   "source": [
    "print(a.slide_layouts.get_by_name(\"Blank\"))"
   ]
  },
  {
   "cell_type": "code",
   "execution_count": 57,
   "id": "508986f0-59bc-485c-acc8-d98e76777f15",
   "metadata": {},
   "outputs": [],
   "source": [
    "'''\n",
    "class SlideLayouts2(m_pptx.slide.SlideLayouts):\n",
    "    def __init__(self, sldLayoutIdLst, parent):\n",
    "        super().__init__(sldLayoutIdLst, parent)\n",
    "\n",
    "    @classmethod\n",
    "    def from_SlideLayouts(cls, layout):\n",
    "        return SlideLayout2(cls.element, cls.part)\n",
    "#'''"
   ]
  },
  {
   "cell_type": "code",
   "execution_count": 6,
   "id": "769e77a1-1b7f-4f70-b9dc-dc530df45359",
   "metadata": {},
   "outputs": [],
   "source": [
    "class Slides2(m_pptx.slide.Slides):\n",
    "    SLIDE_LAYOUTS = {i:name for x in enumerate(\n",
    "            (\"Title\", \"Title_and_Content\", \"Section_Header\",\n",
    "             \"Two_Content\", \"Comparison\", \"Title_Only\",\n",
    "             \"Blank\", \"Content_with_Caption\", \"Picture_with_Caption\"))}\n",
    "    \n",
    "    def __init__(self, sldIdLst, prs):\n",
    "        super().__init__(sldIdLst, prs)\n",
    "        \n",
    "    @classmethod\n",
    "    def from_Slides(cls, slides):\n",
    "        return Slides2(slides._sldIdLst, slides._parent)\n",
    "    \n",
    "    def add_slide(self, layout):\n",
    "        if layout in SLIDE_LAYOUTS:\n",
    "            super().add_slide()\n",
    "        #else: #is of type \n",
    "        super().add_slide(layout)"
   ]
  },
  {
   "cell_type": "code",
   "execution_count": null,
   "id": "c6b08522-80df-48f0-a6e9-126df227fa3d",
   "metadata": {},
   "outputs": [],
   "source": []
  }
 ],
 "metadata": {
  "kernelspec": {
   "display_name": "Python 3.6",
   "language": "python",
   "name": "py3.6"
  },
  "language_info": {
   "codemirror_mode": {
    "name": "ipython",
    "version": 3
   },
   "file_extension": ".py",
   "mimetype": "text/x-python",
   "name": "python",
   "nbconvert_exporter": "python",
   "pygments_lexer": "ipython3",
   "version": "3.6.8"
  }
 },
 "nbformat": 4,
 "nbformat_minor": 5
}
